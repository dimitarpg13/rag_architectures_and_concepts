{
  "cells": [
    {
      "cell_type": "markdown",
      "source": [
        "<a href=\"https://colab.research.google.com/github/dimitarpg13/rag_architectures_and_concepts/blob/main/src/examples/langchain/mongo_cache_memory/mongodb_langchain_cache_memory.ipynb\" target=\"_parent\"><img src=\"https://colab.research.google.com/assets/colab-badge.svg\" alt=\"Open In Colab\"/></a>"
      ],
      "metadata": {
        "id": "KGEvFBH4gU1u"
      },
      "id": "KGEvFBH4gU1u"
    },
    {
      "cell_type": "markdown",
      "id": "70b333e6",
      "metadata": {
        "id": "70b333e6"
      },
      "source": [
        "[![View Article](https://img.shields.io/badge/View%20Article-blue)](https://www.mongodb.com/developer/products/atlas/advanced-rag-langchain-mongodb/)\n"
      ]
    },
    {
      "cell_type": "markdown",
      "id": "d84a72ea",
      "metadata": {
        "id": "d84a72ea"
      },
      "source": [
        "# Adding Semantic Caching and Memory to your RAG Application using MongoDB and LangChain\n",
        "\n",
        "In this notebook, we will see how to use the new MongoDBCache and MongoDBChatMessageHistory in your RAG application.\n"
      ]
    },
    {
      "cell_type": "markdown",
      "id": "65527202",
      "metadata": {
        "id": "65527202"
      },
      "source": [
        "## Step 1: Install required libraries\n",
        "\n",
        "- **datasets**: Python library to get access to datasets available on Hugging Face Hub\n",
        "\n",
        "- **langchain**: Python toolkit for LangChain\n",
        "\n",
        "- **langchain-mongodb**: Python package to use MongoDB as a vector store, semantic cache, chat history store etc. in LangChain\n",
        "\n",
        "- **langchain-openai**: Python package to use OpenAI models with LangChain\n",
        "\n",
        "- **pymongo**: Python toolkit for MongoDB\n",
        "\n",
        "- **pandas**: Python library for data analysis, exploration, and manipulation"
      ]
    },
    {
      "cell_type": "code",
      "execution_count": 1,
      "id": "cbc22fa4",
      "metadata": {
        "id": "cbc22fa4",
        "outputId": "e0bcdb0d-ee53-487e-d6f7-18df867faedc",
        "colab": {
          "base_uri": "https://localhost:8080/"
        }
      },
      "outputs": [
        {
          "output_type": "stream",
          "name": "stdout",
          "text": [
            "\u001b[2K     \u001b[90m━━━━━━━━━━━━━━━━━━━━━━━━━━━━━━━━━━━━━━━━\u001b[0m \u001b[32m91.2/91.2 kB\u001b[0m \u001b[31m2.6 MB/s\u001b[0m eta \u001b[36m0:00:00\u001b[0m\n",
            "\u001b[2K   \u001b[90m━━━━━━━━━━━━━━━━━━━━━━━━━━━━━━━━━━━━━━━━\u001b[0m \u001b[32m494.8/494.8 kB\u001b[0m \u001b[31m10.6 MB/s\u001b[0m eta \u001b[36m0:00:00\u001b[0m\n",
            "\u001b[2K   \u001b[90m━━━━━━━━━━━━━━━━━━━━━━━━━━━━━━━━━━━━━━━━\u001b[0m \u001b[32m59.1/59.1 kB\u001b[0m \u001b[31m3.6 MB/s\u001b[0m eta \u001b[36m0:00:00\u001b[0m\n",
            "\u001b[2K   \u001b[90m━━━━━━━━━━━━━━━━━━━━━━━━━━━━━━━━━━━━━━━━\u001b[0m \u001b[32m70.6/70.6 kB\u001b[0m \u001b[31m5.1 MB/s\u001b[0m eta \u001b[36m0:00:00\u001b[0m\n",
            "\u001b[2K   \u001b[90m━━━━━━━━━━━━━━━━━━━━━━━━━━━━━━━━━━━━━━━━\u001b[0m \u001b[32m1.4/1.4 MB\u001b[0m \u001b[31m38.7 MB/s\u001b[0m eta \u001b[36m0:00:00\u001b[0m\n",
            "\u001b[2K   \u001b[90m━━━━━━━━━━━━━━━━━━━━━━━━━━━━━━━━━━━━━━━━\u001b[0m \u001b[32m12.4/12.4 MB\u001b[0m \u001b[31m50.0 MB/s\u001b[0m eta \u001b[36m0:00:00\u001b[0m\n",
            "\u001b[2K   \u001b[90m━━━━━━━━━━━━━━━━━━━━━━━━━━━━━━━━━━━━━━━━\u001b[0m \u001b[32m313.6/313.6 kB\u001b[0m \u001b[31m18.2 MB/s\u001b[0m eta \u001b[36m0:00:00\u001b[0m\n",
            "\u001b[2K   \u001b[90m━━━━━━━━━━━━━━━━━━━━━━━━━━━━━━━━━━━━━━━━\u001b[0m \u001b[32m193.6/193.6 kB\u001b[0m \u001b[31m10.6 MB/s\u001b[0m eta \u001b[36m0:00:00\u001b[0m\n",
            "\u001b[2K   \u001b[90m━━━━━━━━━━━━━━━━━━━━━━━━━━━━━━━━━━━━━━━━\u001b[0m \u001b[32m111.0/111.0 kB\u001b[0m \u001b[31m4.4 MB/s\u001b[0m eta \u001b[36m0:00:00\u001b[0m\n",
            "\u001b[?25h\u001b[31mERROR: pip's dependency resolver does not currently take into account all the packages that are installed. This behaviour is the source of the following dependency conflicts.\n",
            "google-colab 1.0.0 requires pandas==2.2.2, but you have pandas 2.3.1 which is incompatible.\n",
            "cudf-cu12 25.6.0 requires pandas<2.2.4dev0,>=2.0, but you have pandas 2.3.1 which is incompatible.\n",
            "torch 2.6.0+cu124 requires nvidia-cublas-cu12==12.4.5.8; platform_system == \"Linux\" and platform_machine == \"x86_64\", but you have nvidia-cublas-cu12 12.5.3.2 which is incompatible.\n",
            "torch 2.6.0+cu124 requires nvidia-cuda-cupti-cu12==12.4.127; platform_system == \"Linux\" and platform_machine == \"x86_64\", but you have nvidia-cuda-cupti-cu12 12.5.82 which is incompatible.\n",
            "torch 2.6.0+cu124 requires nvidia-cuda-nvrtc-cu12==12.4.127; platform_system == \"Linux\" and platform_machine == \"x86_64\", but you have nvidia-cuda-nvrtc-cu12 12.5.82 which is incompatible.\n",
            "torch 2.6.0+cu124 requires nvidia-cuda-runtime-cu12==12.4.127; platform_system == \"Linux\" and platform_machine == \"x86_64\", but you have nvidia-cuda-runtime-cu12 12.5.82 which is incompatible.\n",
            "torch 2.6.0+cu124 requires nvidia-cudnn-cu12==9.1.0.70; platform_system == \"Linux\" and platform_machine == \"x86_64\", but you have nvidia-cudnn-cu12 9.3.0.75 which is incompatible.\n",
            "torch 2.6.0+cu124 requires nvidia-cufft-cu12==11.2.1.3; platform_system == \"Linux\" and platform_machine == \"x86_64\", but you have nvidia-cufft-cu12 11.2.3.61 which is incompatible.\n",
            "torch 2.6.0+cu124 requires nvidia-curand-cu12==10.3.5.147; platform_system == \"Linux\" and platform_machine == \"x86_64\", but you have nvidia-curand-cu12 10.3.6.82 which is incompatible.\n",
            "torch 2.6.0+cu124 requires nvidia-cusolver-cu12==11.6.1.9; platform_system == \"Linux\" and platform_machine == \"x86_64\", but you have nvidia-cusolver-cu12 11.6.3.83 which is incompatible.\n",
            "torch 2.6.0+cu124 requires nvidia-cusparse-cu12==12.3.1.170; platform_system == \"Linux\" and platform_machine == \"x86_64\", but you have nvidia-cusparse-cu12 12.5.1.3 which is incompatible.\n",
            "torch 2.6.0+cu124 requires nvidia-nvjitlink-cu12==12.4.127; platform_system == \"Linux\" and platform_machine == \"x86_64\", but you have nvidia-nvjitlink-cu12 12.5.82 which is incompatible.\n",
            "gcsfs 2025.3.2 requires fsspec==2025.3.2, but you have fsspec 2025.3.0 which is incompatible.\n",
            "dask-cudf-cu12 25.6.0 requires pandas<2.2.4dev0,>=2.0, but you have pandas 2.3.1 which is incompatible.\u001b[0m\u001b[31m\n",
            "\u001b[0m"
          ]
        }
      ],
      "source": [
        "! pip install -qU datasets langchain langchain-mongodb langchain-openai pymongo pandas dotenv"
      ]
    },
    {
      "cell_type": "markdown",
      "id": "39c41e87",
      "metadata": {
        "id": "39c41e87"
      },
      "source": [
        "## Step 2: Setup pre-requisites\n",
        "\n",
        "* Set the MongoDB connection string. Follow the steps [here](https://www.mongodb.com/docs/manual/reference/connection-string/) to get the connection string from the Atlas UI.\n",
        "\n",
        "* Set the OpenAI API key. Steps to obtain an API key as [here](https://help.openai.com/en/articles/4936850-where-do-i-find-my-openai-api-key)"
      ]
    },
    {
      "cell_type": "code",
      "execution_count": null,
      "id": "b56412ae",
      "metadata": {
        "id": "b56412ae"
      },
      "outputs": [],
      "source": [
        "import getpass\n",
        "from dotenv import load_dotenv\n",
        "\n",
        "def _set_env(var: str):\n",
        "    if not os.environ.get(var):\n",
        "        os.environ[var] = getpass.getpass(f\"{var}: \")\n",
        "\n",
        "load_dotenv()"
      ]
    },
    {
      "cell_type": "code",
      "execution_count": null,
      "id": "16a20d7a",
      "metadata": {
        "id": "16a20d7a",
        "outputId": "ee6aa60f-95fb-49e7-b744-505c489655a8"
      },
      "outputs": [
        {
          "name": "stdout",
          "output_type": "stream",
          "text": [
            "Enter your MongoDB connection string:········\n"
          ]
        }
      ],
      "source": [
        "_set_env(\"MONGODB_URI\")"
      ]
    },
    {
      "cell_type": "code",
      "execution_count": null,
      "id": "978682d4",
      "metadata": {
        "id": "978682d4",
        "outputId": "f1a3ee5b-d66a-472e-f8aa-5b769266b8ae"
      },
      "outputs": [
        {
          "name": "stdout",
          "output_type": "stream",
          "text": [
            "Enter your OpenAI API key:········\n"
          ]
        }
      ],
      "source": [
        "OPENAI_API_KEY = getpass.getpass(\"Enter your OpenAI API key:\")"
      ]
    },
    {
      "cell_type": "code",
      "execution_count": null,
      "id": "606081c5",
      "metadata": {
        "id": "606081c5",
        "outputId": "363c7d4b-0397-4c43-884f-0d5869ba1d66"
      },
      "outputs": [
        {
          "name": "stdout",
          "output_type": "stream",
          "text": [
            "········\n"
          ]
        }
      ],
      "source": [
        "# Optional-- If you want to enable Langsmith -- good for debugging\n",
        "import os\n",
        "\n",
        "os.environ[\"LANGSMITH_TRACING\"] = \"true\"\n",
        "_set_env(\"LANGSMITH_API_KEY\")"
      ]
    },
    {
      "cell_type": "markdown",
      "id": "f6b8302c",
      "metadata": {
        "id": "f6b8302c"
      },
      "source": [
        "## Step 3: Download the dataset\n",
        "\n",
        "We will be using MongoDB's [embedded_movies](https://huggingface.co/datasets/MongoDB/embedded_movies) dataset"
      ]
    },
    {
      "cell_type": "code",
      "execution_count": null,
      "id": "1a3433a6",
      "metadata": {
        "id": "1a3433a6"
      },
      "outputs": [],
      "source": [
        "import pandas as pd\n",
        "from datasets import load_dataset"
      ]
    },
    {
      "cell_type": "code",
      "execution_count": null,
      "id": "aee5311b",
      "metadata": {
        "id": "aee5311b"
      },
      "outputs": [],
      "source": [
        "# Ensure you have an HF_TOKEN in your development environment:\n",
        "# access tokens can be created or copied from the Hugging Face platform (https://huggingface.co/docs/hub/en/security-tokens)\n",
        "\n",
        "# Load MongoDB's embedded_movies dataset from Hugging Face\n",
        "# https://huggingface.co/datasets/MongoDB/airbnb_embeddings\n",
        "\n",
        "data = load_dataset(\"MongoDB/embedded_movies\")"
      ]
    },
    {
      "cell_type": "code",
      "execution_count": null,
      "id": "1d630a26",
      "metadata": {
        "id": "1d630a26"
      },
      "outputs": [],
      "source": [
        "df = pd.DataFrame(data[\"train\"])"
      ]
    },
    {
      "cell_type": "markdown",
      "id": "a1f94f43",
      "metadata": {
        "id": "a1f94f43"
      },
      "source": [
        "## Step 4: Data analysis\n",
        "\n",
        "Make sure length of the dataset is what we expect, drop Nones etc."
      ]
    },
    {
      "cell_type": "code",
      "execution_count": null,
      "id": "b276df71",
      "metadata": {
        "id": "b276df71",
        "outputId": "f099ff2f-8723-4ab9-cd1a-93f3e4187db9"
      },
      "outputs": [
        {
          "data": {
            "text/html": [
              "<div>\n",
              "<style scoped>\n",
              "    .dataframe tbody tr th:only-of-type {\n",
              "        vertical-align: middle;\n",
              "    }\n",
              "\n",
              "    .dataframe tbody tr th {\n",
              "        vertical-align: top;\n",
              "    }\n",
              "\n",
              "    .dataframe thead th {\n",
              "        text-align: right;\n",
              "    }\n",
              "</style>\n",
              "<table border=\"1\" class=\"dataframe\">\n",
              "  <thead>\n",
              "    <tr style=\"text-align: right;\">\n",
              "      <th></th>\n",
              "      <th>fullplot</th>\n",
              "      <th>type</th>\n",
              "      <th>plot_embedding</th>\n",
              "      <th>num_mflix_comments</th>\n",
              "      <th>runtime</th>\n",
              "      <th>writers</th>\n",
              "      <th>imdb</th>\n",
              "      <th>countries</th>\n",
              "      <th>rated</th>\n",
              "      <th>plot</th>\n",
              "      <th>title</th>\n",
              "      <th>languages</th>\n",
              "      <th>metacritic</th>\n",
              "      <th>directors</th>\n",
              "      <th>awards</th>\n",
              "      <th>genres</th>\n",
              "      <th>poster</th>\n",
              "      <th>cast</th>\n",
              "    </tr>\n",
              "  </thead>\n",
              "  <tbody>\n",
              "    <tr>\n",
              "      <th>0</th>\n",
              "      <td>Young Pauline is left a lot of money when her ...</td>\n",
              "      <td>movie</td>\n",
              "      <td>[0.00072939653, -0.026834568, 0.013515796, -0....</td>\n",
              "      <td>0</td>\n",
              "      <td>199.0</td>\n",
              "      <td>[Charles W. Goddard (screenplay), Basil Dickey...</td>\n",
              "      <td>{'id': 4465, 'rating': 7.6, 'votes': 744}</td>\n",
              "      <td>[USA]</td>\n",
              "      <td>None</td>\n",
              "      <td>Young Pauline is left a lot of money when her ...</td>\n",
              "      <td>The Perils of Pauline</td>\n",
              "      <td>[English]</td>\n",
              "      <td>NaN</td>\n",
              "      <td>[Louis J. Gasnier, Donald MacKenzie]</td>\n",
              "      <td>{'nominations': 0, 'text': '1 win.', 'wins': 1}</td>\n",
              "      <td>[Action]</td>\n",
              "      <td>https://m.media-amazon.com/images/M/MV5BMzgxOD...</td>\n",
              "      <td>[Pearl White, Crane Wilbur, Paul Panzer, Edwar...</td>\n",
              "    </tr>\n",
              "  </tbody>\n",
              "</table>\n",
              "</div>"
            ],
            "text/plain": [
              "                                            fullplot   type  \\\n",
              "0  Young Pauline is left a lot of money when her ...  movie   \n",
              "\n",
              "                                      plot_embedding  num_mflix_comments  \\\n",
              "0  [0.00072939653, -0.026834568, 0.013515796, -0....                   0   \n",
              "\n",
              "   runtime                                            writers  \\\n",
              "0    199.0  [Charles W. Goddard (screenplay), Basil Dickey...   \n",
              "\n",
              "                                        imdb countries rated  \\\n",
              "0  {'id': 4465, 'rating': 7.6, 'votes': 744}     [USA]  None   \n",
              "\n",
              "                                                plot                  title  \\\n",
              "0  Young Pauline is left a lot of money when her ...  The Perils of Pauline   \n",
              "\n",
              "   languages  metacritic                             directors  \\\n",
              "0  [English]         NaN  [Louis J. Gasnier, Donald MacKenzie]   \n",
              "\n",
              "                                            awards    genres  \\\n",
              "0  {'nominations': 0, 'text': '1 win.', 'wins': 1}  [Action]   \n",
              "\n",
              "                                              poster  \\\n",
              "0  https://m.media-amazon.com/images/M/MV5BMzgxOD...   \n",
              "\n",
              "                                                cast  \n",
              "0  [Pearl White, Crane Wilbur, Paul Panzer, Edwar...  "
            ]
          },
          "execution_count": 10,
          "metadata": {},
          "output_type": "execute_result"
        }
      ],
      "source": [
        "# Previewing the contents of the data\n",
        "df.head(1)"
      ]
    },
    {
      "cell_type": "code",
      "execution_count": null,
      "id": "22ab375d",
      "metadata": {
        "id": "22ab375d"
      },
      "outputs": [],
      "source": [
        "# Only keep records where the fullplot field is not null\n",
        "df = df[df[\"fullplot\"].notna()]"
      ]
    },
    {
      "cell_type": "code",
      "execution_count": null,
      "id": "fceed99a",
      "metadata": {
        "id": "fceed99a"
      },
      "outputs": [],
      "source": [
        "# Renaming the embedding field to \"embedding\" -- required by LangChain\n",
        "df.rename(columns={\"plot_embedding\": \"embedding\"}, inplace=True)"
      ]
    },
    {
      "cell_type": "markdown",
      "id": "aedec13a",
      "metadata": {
        "id": "aedec13a"
      },
      "source": [
        "## Step 5: Create a simple RAG chain using MongoDB as the vector store"
      ]
    },
    {
      "cell_type": "code",
      "execution_count": null,
      "id": "11d292f3",
      "metadata": {
        "id": "11d292f3"
      },
      "outputs": [],
      "source": [
        "from langchain_mongodb import MongoDBAtlasVectorSearch\n",
        "from pymongo import MongoClient\n",
        "\n",
        "# Initialize MongoDB python client\n",
        "client = MongoClient(MONGODB_URI, appname=\"devrel.content.python\")\n",
        "\n",
        "DB_NAME = \"langchain_chatbot\"\n",
        "COLLECTION_NAME = \"data\"\n",
        "ATLAS_VECTOR_SEARCH_INDEX_NAME = \"vector_index\"\n",
        "collection = client[DB_NAME][COLLECTION_NAME]"
      ]
    },
    {
      "cell_type": "code",
      "execution_count": null,
      "id": "d8292d53",
      "metadata": {
        "id": "d8292d53",
        "outputId": "85a6e3c6-7b78-4277-bc9d-e9dfd3279185"
      },
      "outputs": [
        {
          "data": {
            "text/plain": [
              "DeleteResult({'n': 1000, 'electionId': ObjectId('7fffffff00000000000000f6'), 'opTime': {'ts': Timestamp(1710523288, 1033), 't': 246}, 'ok': 1.0, '$clusterTime': {'clusterTime': Timestamp(1710523288, 1042), 'signature': {'hash': b\"i\\xa8\\xe9'\\x1ed\\xf2u\\xf3L\\xff\\xb1\\xf5\\xbfA\\x90\\xabJ\\x12\\x83\", 'keyId': 7299545392000008318}}, 'operationTime': Timestamp(1710523288, 1033)}, acknowledged=True)"
            ]
          },
          "execution_count": 14,
          "metadata": {},
          "output_type": "execute_result"
        }
      ],
      "source": [
        "# Delete any existing records in the collection\n",
        "collection.delete_many({})"
      ]
    },
    {
      "cell_type": "code",
      "execution_count": null,
      "id": "36c68914",
      "metadata": {
        "id": "36c68914",
        "outputId": "7b9074f3-0929-4cb8-8ac9-8c5679295d83"
      },
      "outputs": [
        {
          "name": "stdout",
          "output_type": "stream",
          "text": [
            "Data ingestion into MongoDB completed\n"
          ]
        }
      ],
      "source": [
        "# Data Ingestion\n",
        "records = df.to_dict(\"records\")\n",
        "collection.insert_many(records)\n",
        "\n",
        "print(\"Data ingestion into MongoDB completed\")"
      ]
    },
    {
      "cell_type": "code",
      "execution_count": null,
      "id": "cbfca0b8",
      "metadata": {
        "id": "cbfca0b8"
      },
      "outputs": [],
      "source": [
        "from langchain_openai import OpenAIEmbeddings\n",
        "\n",
        "# Using the text-embedding-ada-002 since that's what was used to create embeddings in the movies dataset\n",
        "embeddings = OpenAIEmbeddings(\n",
        "    openai_api_key=OPENAI_API_KEY, model=\"text-embedding-ada-002\"\n",
        ")"
      ]
    },
    {
      "cell_type": "code",
      "execution_count": null,
      "id": "798e176c",
      "metadata": {
        "id": "798e176c"
      },
      "outputs": [],
      "source": [
        "# Vector Store Creation\n",
        "vector_store = MongoDBAtlasVectorSearch.from_connection_string(\n",
        "    connection_string=MONGODB_URI,\n",
        "    namespace=DB_NAME + \".\" + COLLECTION_NAME,\n",
        "    embedding=embeddings,\n",
        "    index_name=ATLAS_VECTOR_SEARCH_INDEX_NAME,\n",
        "    text_key=\"fullplot\",\n",
        ")"
      ]
    },
    {
      "cell_type": "code",
      "execution_count": null,
      "id": "c71cd087",
      "metadata": {
        "id": "c71cd087"
      },
      "outputs": [],
      "source": [
        "# Using the MongoDB vector store as a retriever in a RAG chain\n",
        "retriever = vector_store.as_retriever(search_type=\"similarity\", search_kwargs={\"k\": 5})"
      ]
    },
    {
      "cell_type": "code",
      "execution_count": null,
      "id": "b6588cd3",
      "metadata": {
        "id": "b6588cd3"
      },
      "outputs": [],
      "source": [
        "from langchain_core.output_parsers import StrOutputParser\n",
        "from langchain_core.prompts import ChatPromptTemplate\n",
        "from langchain_core.runnables import RunnablePassthrough\n",
        "from langchain_openai import ChatOpenAI\n",
        "\n",
        "# Generate context using the retriever, and pass the user question through\n",
        "retrieve = {\n",
        "    \"context\": retriever | (lambda docs: \"\\n\\n\".join([d.page_content for d in docs])),\n",
        "    \"question\": RunnablePassthrough(),\n",
        "}\n",
        "template = \"\"\"Answer the question based only on the following context: \\\n",
        "{context}\n",
        "\n",
        "Question: {question}\n",
        "\"\"\"\n",
        "# Defining the chat prompt\n",
        "prompt = ChatPromptTemplate.from_template(template)\n",
        "# Defining the model to be used for chat completion\n",
        "model = ChatOpenAI(temperature=0, openai_api_key=OPENAI_API_KEY)\n",
        "# Parse output as a string\n",
        "parse_output = StrOutputParser()\n",
        "\n",
        "# Naive RAG chain\n",
        "naive_rag_chain = retrieve | prompt | model | parse_output"
      ]
    },
    {
      "cell_type": "code",
      "execution_count": null,
      "id": "aaae21f5",
      "metadata": {
        "id": "aaae21f5",
        "outputId": "8ad43240-8ec7-4570-8a21-dcff926dd644"
      },
      "outputs": [
        {
          "data": {
            "text/plain": [
              "'Once a Thief'"
            ]
          },
          "execution_count": 26,
          "metadata": {},
          "output_type": "execute_result"
        }
      ],
      "source": [
        "naive_rag_chain.invoke(\"What is the best movie to watch when sad?\")"
      ]
    },
    {
      "cell_type": "markdown",
      "id": "75f929ef",
      "metadata": {
        "id": "75f929ef"
      },
      "source": [
        "## Step 6: Create a RAG chain with chat history"
      ]
    },
    {
      "cell_type": "code",
      "execution_count": null,
      "id": "94e7bd4a",
      "metadata": {
        "id": "94e7bd4a"
      },
      "outputs": [],
      "source": [
        "from langchain_core.prompts import MessagesPlaceholder\n",
        "from langchain_core.runnables.history import RunnableWithMessageHistory\n",
        "from langchain_mongodb.chat_message_histories import MongoDBChatMessageHistory"
      ]
    },
    {
      "cell_type": "code",
      "execution_count": null,
      "id": "5bb30860",
      "metadata": {
        "id": "5bb30860"
      },
      "outputs": [],
      "source": [
        "def get_session_history(session_id: str) -> MongoDBChatMessageHistory:\n",
        "    return MongoDBChatMessageHistory(\n",
        "        MONGODB_URI, session_id, database_name=DB_NAME, collection_name=\"history\"\n",
        "    )"
      ]
    },
    {
      "cell_type": "code",
      "execution_count": null,
      "id": "f51d0f35",
      "metadata": {
        "id": "f51d0f35"
      },
      "outputs": [],
      "source": [
        "# Given a follow-up question and history, create a standalone question\n",
        "standalone_system_prompt = \"\"\"\n",
        "Given a chat history and a follow-up question, rephrase the follow-up question to be a standalone question. \\\n",
        "Do NOT answer the question, just reformulate it if needed, otherwise return it as is. \\\n",
        "Only return the final standalone question. \\\n",
        "\"\"\"\n",
        "standalone_question_prompt = ChatPromptTemplate.from_messages(\n",
        "    [\n",
        "        (\"system\", standalone_system_prompt),\n",
        "        MessagesPlaceholder(variable_name=\"history\"),\n",
        "        (\"human\", \"{question}\"),\n",
        "    ]\n",
        ")\n",
        "\n",
        "question_chain = standalone_question_prompt | model | parse_output"
      ]
    },
    {
      "cell_type": "code",
      "execution_count": null,
      "id": "f3ef3354",
      "metadata": {
        "id": "f3ef3354"
      },
      "outputs": [],
      "source": [
        "# Generate context by passing output of the question_chain i.e. the standalone question to the retriever\n",
        "retriever_chain = RunnablePassthrough.assign(\n",
        "    context=question_chain\n",
        "    | retriever\n",
        "    | (lambda docs: \"\\n\\n\".join([d.page_content for d in docs]))\n",
        ")"
      ]
    },
    {
      "cell_type": "code",
      "execution_count": null,
      "id": "5afb7345",
      "metadata": {
        "id": "5afb7345"
      },
      "outputs": [],
      "source": [
        "# Create a prompt that includes the context, history and the follow-up question\n",
        "rag_system_prompt = \"\"\"Answer the question based only on the following context: \\\n",
        "{context}\n",
        "\"\"\"\n",
        "rag_prompt = ChatPromptTemplate.from_messages(\n",
        "    [\n",
        "        (\"system\", rag_system_prompt),\n",
        "        MessagesPlaceholder(variable_name=\"history\"),\n",
        "        (\"human\", \"{question}\"),\n",
        "    ]\n",
        ")"
      ]
    },
    {
      "cell_type": "code",
      "execution_count": null,
      "id": "f95f47d0",
      "metadata": {
        "id": "f95f47d0"
      },
      "outputs": [],
      "source": [
        "# RAG chain\n",
        "rag_chain = retriever_chain | rag_prompt | model | parse_output"
      ]
    },
    {
      "cell_type": "code",
      "execution_count": null,
      "id": "9618d395",
      "metadata": {
        "id": "9618d395",
        "outputId": "10765162-7cd5-452b-b9fe-e0525fad606a"
      },
      "outputs": [
        {
          "data": {
            "text/plain": [
              "'The best movie to watch when feeling down could be \"Last Action Hero.\" It\\'s a fun and action-packed film that blends reality and fantasy, offering an escape from the real world and providing an entertaining distraction.'"
            ]
          },
          "execution_count": 57,
          "metadata": {},
          "output_type": "execute_result"
        }
      ],
      "source": [
        "# RAG chain with history\n",
        "with_message_history = RunnableWithMessageHistory(\n",
        "    rag_chain,\n",
        "    get_session_history,\n",
        "    input_messages_key=\"question\",\n",
        "    history_messages_key=\"history\",\n",
        ")\n",
        "with_message_history.invoke(\n",
        "    {\"question\": \"What is the best movie to watch when sad?\"},\n",
        "    {\"configurable\": {\"session_id\": \"1\"}},\n",
        ")"
      ]
    },
    {
      "cell_type": "code",
      "execution_count": null,
      "id": "6e3080d1",
      "metadata": {
        "id": "6e3080d1",
        "outputId": "717d0f78-7c74-4719-a1da-4ad2914dc6a1"
      },
      "outputs": [
        {
          "data": {
            "text/plain": [
              "'I apologize for the confusion. Another movie that might lift your spirits when you\\'re feeling sad is \"Smilla\\'s Sense of Snow.\" It\\'s a mystery thriller that could engage your mind and distract you from your sadness with its intriguing plot and suspenseful storyline.'"
            ]
          },
          "execution_count": 58,
          "metadata": {},
          "output_type": "execute_result"
        }
      ],
      "source": [
        "with_message_history.invoke(\n",
        "    {\n",
        "        \"question\": \"Hmmm..I don't want to watch that one. Can you suggest something else?\"\n",
        "    },\n",
        "    {\"configurable\": {\"session_id\": \"1\"}},\n",
        ")"
      ]
    },
    {
      "cell_type": "code",
      "execution_count": null,
      "id": "daea2953",
      "metadata": {
        "id": "daea2953",
        "outputId": "2e13809b-c49b-4388-e80b-bc6d8d92d8eb"
      },
      "outputs": [
        {
          "data": {
            "text/plain": [
              "'For a lighter movie option, you might enjoy \"Cousins.\" It\\'s a comedy film set in Barcelona with action and humor, offering a fun and entertaining escape from reality. The storyline is engaging and filled with comedic moments that could help lift your spirits.'"
            ]
          },
          "execution_count": 59,
          "metadata": {},
          "output_type": "execute_result"
        }
      ],
      "source": [
        "with_message_history.invoke(\n",
        "    {\"question\": \"How about something more light?\"},\n",
        "    {\"configurable\": {\"session_id\": \"1\"}},\n",
        ")"
      ]
    },
    {
      "cell_type": "markdown",
      "id": "0de23a88",
      "metadata": {
        "id": "0de23a88"
      },
      "source": [
        "## Step 7: Get faster responses using Semantic Cache\n",
        "\n",
        "**NOTE:** Semantic cache only caches the input to the LLM. When using it in retrieval chains, remember that documents retrieved can change between runs resulting in cache misses for semantically similar queries."
      ]
    },
    {
      "cell_type": "code",
      "execution_count": null,
      "id": "5d6b6741",
      "metadata": {
        "id": "5d6b6741"
      },
      "outputs": [],
      "source": [
        "from langchain_core.globals import set_llm_cache\n",
        "from langchain_mongodb.cache import MongoDBAtlasSemanticCache\n",
        "\n",
        "set_llm_cache(\n",
        "    MongoDBAtlasSemanticCache(\n",
        "        connection_string=MONGODB_URI,\n",
        "        embedding=embeddings,\n",
        "        collection_name=\"semantic_cache\",\n",
        "        database_name=DB_NAME,\n",
        "        index_name=ATLAS_VECTOR_SEARCH_INDEX_NAME,\n",
        "        wait_until_ready=True,  # Optional, waits until the cache is ready to be used\n",
        "    )\n",
        ")"
      ]
    },
    {
      "cell_type": "code",
      "execution_count": null,
      "id": "9825bc7b",
      "metadata": {
        "id": "9825bc7b",
        "outputId": "ace73c0d-86a9-4ea6-eb61-668990648a72"
      },
      "outputs": [
        {
          "name": "stdout",
          "output_type": "stream",
          "text": [
            "CPU times: user 87.8 ms, sys: 670 µs, total: 88.5 ms\n",
            "Wall time: 1.24 s\n"
          ]
        },
        {
          "data": {
            "text/plain": [
              "'Once a Thief'"
            ]
          },
          "execution_count": 62,
          "metadata": {},
          "output_type": "execute_result"
        }
      ],
      "source": [
        "%%time\n",
        "naive_rag_chain.invoke(\"What is the best movie to watch when sad?\")"
      ]
    },
    {
      "cell_type": "code",
      "execution_count": null,
      "id": "a5e518cf",
      "metadata": {
        "id": "a5e518cf",
        "outputId": "85745db0-4f0b-4852-ec2a-49e9c28460a8"
      },
      "outputs": [
        {
          "name": "stdout",
          "output_type": "stream",
          "text": [
            "CPU times: user 43.5 ms, sys: 4.16 ms, total: 47.7 ms\n",
            "Wall time: 255 ms\n"
          ]
        },
        {
          "data": {
            "text/plain": [
              "'Once a Thief'"
            ]
          },
          "execution_count": 63,
          "metadata": {},
          "output_type": "execute_result"
        }
      ],
      "source": [
        "%%time\n",
        "naive_rag_chain.invoke(\"What is the best movie to watch when sad?\")"
      ]
    },
    {
      "cell_type": "code",
      "execution_count": null,
      "id": "3d3d3ad3",
      "metadata": {
        "id": "3d3d3ad3",
        "outputId": "a0b310cf-ac14-4c92-b834-65c7ecbe9e61"
      },
      "outputs": [
        {
          "name": "stdout",
          "output_type": "stream",
          "text": [
            "CPU times: user 115 ms, sys: 171 µs, total: 115 ms\n",
            "Wall time: 1.38 s\n"
          ]
        },
        {
          "data": {
            "text/plain": [
              "'I would recommend watching \"Last Action Hero\" when sad, as it is a fun and action-packed film that can help lift your spirits.'"
            ]
          },
          "execution_count": 64,
          "metadata": {},
          "output_type": "execute_result"
        }
      ],
      "source": [
        "%%time\n",
        "naive_rag_chain.invoke(\"Which movie do I watch when sad?\")"
      ]
    }
  ],
  "metadata": {
    "kernelspec": {
      "display_name": "conda_pytorch_p310",
      "language": "python",
      "name": "conda_pytorch_p310"
    },
    "language_info": {
      "codemirror_mode": {
        "name": "ipython",
        "version": 3
      },
      "file_extension": ".py",
      "mimetype": "text/x-python",
      "name": "python",
      "nbconvert_exporter": "python",
      "pygments_lexer": "ipython3",
      "version": "3.10.13"
    },
    "colab": {
      "provenance": []
    }
  },
  "nbformat": 4,
  "nbformat_minor": 5
}