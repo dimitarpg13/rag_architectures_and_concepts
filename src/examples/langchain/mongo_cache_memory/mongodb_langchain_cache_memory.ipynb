{
  "cells": [
    {
      "cell_type": "markdown",
      "source": [
        "<a href=\"https://colab.research.google.com/github/dimitarpg13/rag_architectures_and_concepts/blob/main/src/examples/langchain/mongo_cache_memory/mongodb_langchain_cache_memory.ipynb\" target=\"_parent\"><img src=\"https://colab.research.google.com/assets/colab-badge.svg\" alt=\"Open In Colab\"/></a>"
      ],
      "metadata": {
        "id": "KGEvFBH4gU1u"
      },
      "id": "KGEvFBH4gU1u"
    },
    {
      "cell_type": "markdown",
      "id": "70b333e6",
      "metadata": {
        "id": "70b333e6"
      },
      "source": [
        "[![View Article](https://img.shields.io/badge/View%20Article-blue)](https://www.mongodb.com/developer/products/atlas/advanced-rag-langchain-mongodb/)\n"
      ]
    },
    {
      "cell_type": "markdown",
      "id": "d84a72ea",
      "metadata": {
        "id": "d84a72ea"
      },
      "source": [
        "# Adding Semantic Caching and Memory to your RAG Application using MongoDB and LangChain\n",
        "\n",
        "In this notebook, we will see how to use the new MongoDBCache and MongoDBChatMessageHistory in your RAG application.\n"
      ]
    },
    {
      "cell_type": "markdown",
      "id": "65527202",
      "metadata": {
        "id": "65527202"
      },
      "source": [
        "## Step 1: Install required libraries\n",
        "\n",
        "- **datasets**: Python library to get access to datasets available on Hugging Face Hub\n",
        "\n",
        "- **langchain**: Python toolkit for LangChain\n",
        "\n",
        "- **langchain-mongodb**: Python package to use MongoDB as a vector store, semantic cache, chat history store etc. in LangChain\n",
        "\n",
        "- **langchain-openai**: Python package to use OpenAI models with LangChain\n",
        "\n",
        "- **pymongo**: Python toolkit for MongoDB\n",
        "\n",
        "- **pandas**: Python library for data analysis, exploration, and manipulation"
      ]
    },
    {
      "cell_type": "code",
      "execution_count": 1,
      "id": "cbc22fa4",
      "metadata": {
        "id": "cbc22fa4"
      },
      "outputs": [],
      "source": [
        "! pip install -qU datasets langchain langchain-mongodb langchain-openai pymongo pandas dotenv"
      ]
    },
    {
      "cell_type": "markdown",
      "id": "39c41e87",
      "metadata": {
        "id": "39c41e87"
      },
      "source": [
        "## Step 2: Setup pre-requisites\n",
        "\n",
        "* Set the MongoDB connection string. Follow the steps [here](https://www.mongodb.com/docs/manual/reference/connection-string/) to get the connection string from the Atlas UI.\n",
        "\n",
        "* Set the OpenAI API key. Steps to obtain an API key as [here](https://help.openai.com/en/articles/4936850-where-do-i-find-my-openai-api-key)"
      ]
    },
    {
      "cell_type": "code",
      "execution_count": 2,
      "id": "b56412ae",
      "metadata": {
        "id": "b56412ae",
        "colab": {
          "base_uri": "https://localhost:8080/"
        },
        "outputId": "53843463-62a4-4a8e-d0a2-a7e698b5b331"
      },
      "outputs": [
        {
          "output_type": "execute_result",
          "data": {
            "text/plain": [
              "True"
            ]
          },
          "metadata": {},
          "execution_count": 2
        }
      ],
      "source": [
        "import os\n",
        "import getpass\n",
        "from dotenv import load_dotenv\n",
        "\n",
        "def _set_env(var: str):\n",
        "    if not os.environ.get(var):\n",
        "        os.environ[var] = getpass.getpass(f\"{var}: \")\n",
        "\n",
        "load_dotenv()"
      ]
    },
    {
      "cell_type": "code",
      "execution_count": 3,
      "id": "16a20d7a",
      "metadata": {
        "id": "16a20d7a"
      },
      "outputs": [],
      "source": [
        "_set_env(\"MONGODB_URI\")"
      ]
    },
    {
      "cell_type": "code",
      "execution_count": 4,
      "id": "978682d4",
      "metadata": {
        "id": "978682d4"
      },
      "outputs": [],
      "source": [
        "_set_env(\"OPENAI_API_KEY\")"
      ]
    },
    {
      "cell_type": "code",
      "execution_count": 5,
      "id": "606081c5",
      "metadata": {
        "id": "606081c5"
      },
      "outputs": [],
      "source": [
        "# Optional-- If you want to enable Langsmith -- good for debugging\n",
        "\n",
        "os.environ[\"LANGSMITH_TRACING\"] = \"true\"\n",
        "_set_env(\"LANGSMITH_API_KEY\")"
      ]
    },
    {
      "cell_type": "markdown",
      "id": "f6b8302c",
      "metadata": {
        "id": "f6b8302c"
      },
      "source": [
        "## Step 3: Download the dataset\n",
        "\n",
        "We will be using MongoDB's [embedded_movies](https://huggingface.co/datasets/MongoDB/embedded_movies) dataset"
      ]
    },
    {
      "cell_type": "code",
      "execution_count": 6,
      "id": "1a3433a6",
      "metadata": {
        "id": "1a3433a6"
      },
      "outputs": [],
      "source": [
        "import pandas as pd\n",
        "from datasets import load_dataset"
      ]
    },
    {
      "cell_type": "code",
      "execution_count": 7,
      "id": "aee5311b",
      "metadata": {
        "id": "aee5311b",
        "colab": {
          "base_uri": "https://localhost:8080/"
        },
        "outputId": "924fcce0-68fc-48eb-9a77-39d8511ba953"
      },
      "outputs": [
        {
          "output_type": "stream",
          "name": "stderr",
          "text": [
            "/usr/local/lib/python3.11/dist-packages/huggingface_hub/utils/_auth.py:94: UserWarning: \n",
            "The secret `HF_TOKEN` does not exist in your Colab secrets.\n",
            "To authenticate with the Hugging Face Hub, create a token in your settings tab (https://huggingface.co/settings/tokens), set it as secret in your Google Colab and restart your session.\n",
            "You will be able to reuse this secret in all of your notebooks.\n",
            "Please note that authentication is recommended but still optional to access public models or datasets.\n",
            "  warnings.warn(\n"
          ]
        }
      ],
      "source": [
        "# Ensure you have an HF_TOKEN in your development environment:\n",
        "# access tokens can be created or copied from the Hugging Face platform (https://huggingface.co/docs/hub/en/security-tokens)\n",
        "\n",
        "# Load MongoDB's embedded_movies dataset from Hugging Face\n",
        "# https://huggingface.co/datasets/MongoDB/airbnb_embeddings\n",
        "\n",
        "data = load_dataset(\"MongoDB/embedded_movies\")"
      ]
    },
    {
      "cell_type": "code",
      "execution_count": 8,
      "id": "1d630a26",
      "metadata": {
        "id": "1d630a26"
      },
      "outputs": [],
      "source": [
        "df = pd.DataFrame(data[\"train\"])"
      ]
    },
    {
      "cell_type": "markdown",
      "id": "a1f94f43",
      "metadata": {
        "id": "a1f94f43"
      },
      "source": [
        "## Step 4: Data analysis\n",
        "\n",
        "Make sure length of the dataset is what we expect, drop Nones etc."
      ]
    },
    {
      "cell_type": "code",
      "execution_count": 9,
      "id": "b276df71",
      "metadata": {
        "id": "b276df71",
        "outputId": "5e338de0-5435-4a74-f20f-bdee16c30b15",
        "colab": {
          "base_uri": "https://localhost:8080/",
          "height": 205
        }
      },
      "outputs": [
        {
          "output_type": "execute_result",
          "data": {
            "text/plain": [
              "                                                plot  runtime    genres  \\\n",
              "0  Young Pauline is left a lot of money when her ...    199.0  [Action]   \n",
              "\n",
              "                                            fullplot  \\\n",
              "0  Young Pauline is left a lot of money when her ...   \n",
              "\n",
              "                              directors  \\\n",
              "0  [Louis J. Gasnier, Donald MacKenzie]   \n",
              "\n",
              "                                             writers countries  \\\n",
              "0  [Charles W. Goddard (screenplay), Basil Dickey...     [USA]   \n",
              "\n",
              "                                              poster  languages  \\\n",
              "0  https://m.media-amazon.com/images/M/MV5BMzgxOD...  [English]   \n",
              "\n",
              "                                                cast                  title  \\\n",
              "0  [Pearl White, Crane Wilbur, Paul Panzer, Edwar...  The Perils of Pauline   \n",
              "\n",
              "   num_mflix_comments rated                                       imdb  \\\n",
              "0                   0  None  {'id': 4465, 'rating': 7.6, 'votes': 744}   \n",
              "\n",
              "                                            awards   type  metacritic  \\\n",
              "0  {'nominations': 0, 'text': '1 win.', 'wins': 1}  movie         NaN   \n",
              "\n",
              "                                      plot_embedding  \n",
              "0  [0.0007293965299999999, -0.026834568000000003,...  "
            ],
            "text/html": [
              "\n",
              "  <div id=\"df-4142b13d-6add-4cfd-a308-28a940a9762d\" class=\"colab-df-container\">\n",
              "    <div>\n",
              "<style scoped>\n",
              "    .dataframe tbody tr th:only-of-type {\n",
              "        vertical-align: middle;\n",
              "    }\n",
              "\n",
              "    .dataframe tbody tr th {\n",
              "        vertical-align: top;\n",
              "    }\n",
              "\n",
              "    .dataframe thead th {\n",
              "        text-align: right;\n",
              "    }\n",
              "</style>\n",
              "<table border=\"1\" class=\"dataframe\">\n",
              "  <thead>\n",
              "    <tr style=\"text-align: right;\">\n",
              "      <th></th>\n",
              "      <th>plot</th>\n",
              "      <th>runtime</th>\n",
              "      <th>genres</th>\n",
              "      <th>fullplot</th>\n",
              "      <th>directors</th>\n",
              "      <th>writers</th>\n",
              "      <th>countries</th>\n",
              "      <th>poster</th>\n",
              "      <th>languages</th>\n",
              "      <th>cast</th>\n",
              "      <th>title</th>\n",
              "      <th>num_mflix_comments</th>\n",
              "      <th>rated</th>\n",
              "      <th>imdb</th>\n",
              "      <th>awards</th>\n",
              "      <th>type</th>\n",
              "      <th>metacritic</th>\n",
              "      <th>plot_embedding</th>\n",
              "    </tr>\n",
              "  </thead>\n",
              "  <tbody>\n",
              "    <tr>\n",
              "      <th>0</th>\n",
              "      <td>Young Pauline is left a lot of money when her ...</td>\n",
              "      <td>199.0</td>\n",
              "      <td>[Action]</td>\n",
              "      <td>Young Pauline is left a lot of money when her ...</td>\n",
              "      <td>[Louis J. Gasnier, Donald MacKenzie]</td>\n",
              "      <td>[Charles W. Goddard (screenplay), Basil Dickey...</td>\n",
              "      <td>[USA]</td>\n",
              "      <td>https://m.media-amazon.com/images/M/MV5BMzgxOD...</td>\n",
              "      <td>[English]</td>\n",
              "      <td>[Pearl White, Crane Wilbur, Paul Panzer, Edwar...</td>\n",
              "      <td>The Perils of Pauline</td>\n",
              "      <td>0</td>\n",
              "      <td>None</td>\n",
              "      <td>{'id': 4465, 'rating': 7.6, 'votes': 744}</td>\n",
              "      <td>{'nominations': 0, 'text': '1 win.', 'wins': 1}</td>\n",
              "      <td>movie</td>\n",
              "      <td>NaN</td>\n",
              "      <td>[0.0007293965299999999, -0.026834568000000003,...</td>\n",
              "    </tr>\n",
              "  </tbody>\n",
              "</table>\n",
              "</div>\n",
              "    <div class=\"colab-df-buttons\">\n",
              "\n",
              "  <div class=\"colab-df-container\">\n",
              "    <button class=\"colab-df-convert\" onclick=\"convertToInteractive('df-4142b13d-6add-4cfd-a308-28a940a9762d')\"\n",
              "            title=\"Convert this dataframe to an interactive table.\"\n",
              "            style=\"display:none;\">\n",
              "\n",
              "  <svg xmlns=\"http://www.w3.org/2000/svg\" height=\"24px\" viewBox=\"0 -960 960 960\">\n",
              "    <path d=\"M120-120v-720h720v720H120Zm60-500h600v-160H180v160Zm220 220h160v-160H400v160Zm0 220h160v-160H400v160ZM180-400h160v-160H180v160Zm440 0h160v-160H620v160ZM180-180h160v-160H180v160Zm440 0h160v-160H620v160Z\"/>\n",
              "  </svg>\n",
              "    </button>\n",
              "\n",
              "  <style>\n",
              "    .colab-df-container {\n",
              "      display:flex;\n",
              "      gap: 12px;\n",
              "    }\n",
              "\n",
              "    .colab-df-convert {\n",
              "      background-color: #E8F0FE;\n",
              "      border: none;\n",
              "      border-radius: 50%;\n",
              "      cursor: pointer;\n",
              "      display: none;\n",
              "      fill: #1967D2;\n",
              "      height: 32px;\n",
              "      padding: 0 0 0 0;\n",
              "      width: 32px;\n",
              "    }\n",
              "\n",
              "    .colab-df-convert:hover {\n",
              "      background-color: #E2EBFA;\n",
              "      box-shadow: 0px 1px 2px rgba(60, 64, 67, 0.3), 0px 1px 3px 1px rgba(60, 64, 67, 0.15);\n",
              "      fill: #174EA6;\n",
              "    }\n",
              "\n",
              "    .colab-df-buttons div {\n",
              "      margin-bottom: 4px;\n",
              "    }\n",
              "\n",
              "    [theme=dark] .colab-df-convert {\n",
              "      background-color: #3B4455;\n",
              "      fill: #D2E3FC;\n",
              "    }\n",
              "\n",
              "    [theme=dark] .colab-df-convert:hover {\n",
              "      background-color: #434B5C;\n",
              "      box-shadow: 0px 1px 3px 1px rgba(0, 0, 0, 0.15);\n",
              "      filter: drop-shadow(0px 1px 2px rgba(0, 0, 0, 0.3));\n",
              "      fill: #FFFFFF;\n",
              "    }\n",
              "  </style>\n",
              "\n",
              "    <script>\n",
              "      const buttonEl =\n",
              "        document.querySelector('#df-4142b13d-6add-4cfd-a308-28a940a9762d button.colab-df-convert');\n",
              "      buttonEl.style.display =\n",
              "        google.colab.kernel.accessAllowed ? 'block' : 'none';\n",
              "\n",
              "      async function convertToInteractive(key) {\n",
              "        const element = document.querySelector('#df-4142b13d-6add-4cfd-a308-28a940a9762d');\n",
              "        const dataTable =\n",
              "          await google.colab.kernel.invokeFunction('convertToInteractive',\n",
              "                                                    [key], {});\n",
              "        if (!dataTable) return;\n",
              "\n",
              "        const docLinkHtml = 'Like what you see? Visit the ' +\n",
              "          '<a target=\"_blank\" href=https://colab.research.google.com/notebooks/data_table.ipynb>data table notebook</a>'\n",
              "          + ' to learn more about interactive tables.';\n",
              "        element.innerHTML = '';\n",
              "        dataTable['output_type'] = 'display_data';\n",
              "        await google.colab.output.renderOutput(dataTable, element);\n",
              "        const docLink = document.createElement('div');\n",
              "        docLink.innerHTML = docLinkHtml;\n",
              "        element.appendChild(docLink);\n",
              "      }\n",
              "    </script>\n",
              "  </div>\n",
              "\n",
              "\n",
              "    </div>\n",
              "  </div>\n"
            ],
            "application/vnd.google.colaboratory.intrinsic+json": {
              "type": "dataframe",
              "variable_name": "df",
              "summary": "{\n  \"name\": \"df\",\n  \"rows\": 1500,\n  \"fields\": [\n    {\n      \"column\": \"plot\",\n      \"properties\": {\n        \"dtype\": \"string\",\n        \"num_unique_values\": 1429,\n        \"samples\": [\n          \"A New York City architect becomes a one-man vigilante squad after his wife is murdered by street punks in which he randomly goes out and kills would-be muggers on the mean streets after dark.\",\n          \"As the daring thief Ars\\u00e8ne Lupin (Duris) ransacks the homes of wealthy Parisians, the police, with a secret weapon in their arsenal, attempt to ferret him out.\",\n          \"The spoilt son of a millionaire finds the love of his life, but she will only accept him if he proves himself as a kung-fu master. He enters and wins the \\\"Kung-Fu Scholar\\\" tournament, ...\"\n        ],\n        \"semantic_type\": \"\",\n        \"description\": \"\"\n      }\n    },\n    {\n      \"column\": \"runtime\",\n      \"properties\": {\n        \"dtype\": \"number\",\n        \"std\": 42.09038552453904,\n        \"min\": 6.0,\n        \"max\": 1256.0,\n        \"num_unique_values\": 139,\n        \"samples\": [\n          152.0,\n          127.0,\n          96.0\n        ],\n        \"semantic_type\": \"\",\n        \"description\": \"\"\n      }\n    },\n    {\n      \"column\": \"genres\",\n      \"properties\": {\n        \"dtype\": \"object\",\n        \"semantic_type\": \"\",\n        \"description\": \"\"\n      }\n    },\n    {\n      \"column\": \"fullplot\",\n      \"properties\": {\n        \"dtype\": \"string\",\n        \"num_unique_values\": 1409,\n        \"samples\": [\n          \"An undercover cop infiltrates a gang of thieves who plan to rob a jewelry store.\",\n          \"Godzilla returns in a brand-new movie that ignores all preceding movies except for the original with a brand new look and a powered up atomic ray. This time he battles a mysterious UFO that later transforms into a mysterious kaiju dubbed Orga. They meet up for the final showdown in the city of Shinjuku.\",\n          \"Relationships become entangled in an emotional web.\"\n        ],\n        \"semantic_type\": \"\",\n        \"description\": \"\"\n      }\n    },\n    {\n      \"column\": \"directors\",\n      \"properties\": {\n        \"dtype\": \"object\",\n        \"semantic_type\": \"\",\n        \"description\": \"\"\n      }\n    },\n    {\n      \"column\": \"writers\",\n      \"properties\": {\n        \"dtype\": \"object\",\n        \"semantic_type\": \"\",\n        \"description\": \"\"\n      }\n    },\n    {\n      \"column\": \"countries\",\n      \"properties\": {\n        \"dtype\": \"object\",\n        \"semantic_type\": \"\",\n        \"description\": \"\"\n      }\n    },\n    {\n      \"column\": \"poster\",\n      \"properties\": {\n        \"dtype\": \"string\",\n        \"num_unique_values\": 1368,\n        \"samples\": [\n          \"https://m.media-amazon.com/images/M/MV5BNWE5MzAwMjQtNzI1YS00YjZhLTkxNDItM2JjNjM3ZjI5NzBjXkEyXkFqcGdeQXVyMTQxNzMzNDI@._V1_SY1000_SX677_AL_.jpg\",\n          \"https://m.media-amazon.com/images/M/MV5BMTgwNjIyNTczMF5BMl5BanBnXkFtZTcwODI5MDkyMQ@@._V1_SY1000_SX677_AL_.jpg\",\n          \"https://m.media-amazon.com/images/M/MV5BZDJjOTE0N2EtMmRlZS00NzU0LWE0ZWQtM2Q3MWMxNjcwZjBhXkEyXkFqcGdeQXVyNDk3NzU2MTQ@._V1_SY1000_SX677_AL_.jpg\"\n        ],\n        \"semantic_type\": \"\",\n        \"description\": \"\"\n      }\n    },\n    {\n      \"column\": \"languages\",\n      \"properties\": {\n        \"dtype\": \"object\",\n        \"semantic_type\": \"\",\n        \"description\": \"\"\n      }\n    },\n    {\n      \"column\": \"cast\",\n      \"properties\": {\n        \"dtype\": \"object\",\n        \"semantic_type\": \"\",\n        \"description\": \"\"\n      }\n    },\n    {\n      \"column\": \"title\",\n      \"properties\": {\n        \"dtype\": \"string\",\n        \"num_unique_values\": 1435,\n        \"samples\": [\n          \"Turbo: A Power Rangers Movie\",\n          \"Neon Genesis Evangelion: Death & Rebirth\",\n          \"Johnny Mnemonic\"\n        ],\n        \"semantic_type\": \"\",\n        \"description\": \"\"\n      }\n    },\n    {\n      \"column\": \"num_mflix_comments\",\n      \"properties\": {\n        \"dtype\": \"number\",\n        \"std\": 27,\n        \"min\": 0,\n        \"max\": 158,\n        \"num_unique_values\": 40,\n        \"samples\": [\n          117,\n          134,\n          124\n        ],\n        \"semantic_type\": \"\",\n        \"description\": \"\"\n      }\n    },\n    {\n      \"column\": \"rated\",\n      \"properties\": {\n        \"dtype\": \"category\",\n        \"num_unique_values\": 12,\n        \"samples\": [\n          \"TV-MA\",\n          \"TV-14\",\n          \"TV-G\"\n        ],\n        \"semantic_type\": \"\",\n        \"description\": \"\"\n      }\n    },\n    {\n      \"column\": \"imdb\",\n      \"properties\": {\n        \"dtype\": \"object\",\n        \"semantic_type\": \"\",\n        \"description\": \"\"\n      }\n    },\n    {\n      \"column\": \"awards\",\n      \"properties\": {\n        \"dtype\": \"object\",\n        \"semantic_type\": \"\",\n        \"description\": \"\"\n      }\n    },\n    {\n      \"column\": \"type\",\n      \"properties\": {\n        \"dtype\": \"category\",\n        \"num_unique_values\": 2,\n        \"samples\": [\n          \"series\",\n          \"movie\"\n        ],\n        \"semantic_type\": \"\",\n        \"description\": \"\"\n      }\n    },\n    {\n      \"column\": \"metacritic\",\n      \"properties\": {\n        \"dtype\": \"number\",\n        \"std\": 16.861995960390892,\n        \"min\": 9.0,\n        \"max\": 97.0,\n        \"num_unique_values\": 83,\n        \"samples\": [\n          50.0,\n          97.0\n        ],\n        \"semantic_type\": \"\",\n        \"description\": \"\"\n      }\n    },\n    {\n      \"column\": \"plot_embedding\",\n      \"properties\": {\n        \"dtype\": \"object\",\n        \"semantic_type\": \"\",\n        \"description\": \"\"\n      }\n    }\n  ]\n}"
            }
          },
          "metadata": {},
          "execution_count": 9
        }
      ],
      "source": [
        "# Previewing the contents of the data\n",
        "df.head(1)"
      ]
    },
    {
      "cell_type": "code",
      "execution_count": 10,
      "id": "22ab375d",
      "metadata": {
        "id": "22ab375d"
      },
      "outputs": [],
      "source": [
        "# Only keep records where the fullplot field is not null\n",
        "df = df[df[\"fullplot\"].notna()]"
      ]
    },
    {
      "cell_type": "code",
      "execution_count": 11,
      "id": "fceed99a",
      "metadata": {
        "id": "fceed99a"
      },
      "outputs": [],
      "source": [
        "# Renaming the embedding field to \"embedding\" -- required by LangChain\n",
        "df.rename(columns={\"plot_embedding\": \"embedding\"}, inplace=True)"
      ]
    },
    {
      "cell_type": "markdown",
      "id": "aedec13a",
      "metadata": {
        "id": "aedec13a"
      },
      "source": [
        "## Step 5: Create a simple RAG chain using MongoDB as the vector store"
      ]
    },
    {
      "cell_type": "code",
      "execution_count": 13,
      "id": "11d292f3",
      "metadata": {
        "id": "11d292f3"
      },
      "outputs": [],
      "source": [
        "from langchain_mongodb import MongoDBAtlasVectorSearch\n",
        "from pymongo import MongoClient\n",
        "\n",
        "# Initialize MongoDB python client\n",
        "client = MongoClient(os.environ[\"MONGODB_URI\"], appname=\"devrel.content.python\")\n",
        "\n",
        "DB_NAME = \"langchain_chatbot\"\n",
        "COLLECTION_NAME = \"data\"\n",
        "ATLAS_VECTOR_SEARCH_INDEX_NAME = \"vector_index\"\n",
        "collection = client[DB_NAME][COLLECTION_NAME]"
      ]
    },
    {
      "cell_type": "code",
      "execution_count": 14,
      "id": "d8292d53",
      "metadata": {
        "id": "d8292d53",
        "outputId": "a833ee4f-ba79-48c0-9e63-cf0f7753eaad",
        "colab": {
          "base_uri": "https://localhost:8080/",
          "height": 382
        }
      },
      "outputs": [
        {
          "output_type": "error",
          "ename": "ServerSelectionTimeoutError",
          "evalue": "3.148.238.241:27017: timed out (configured timeouts: socketTimeoutMS: 20000.0ms, connectTimeoutMS: 20000.0ms), Timeout: 30s, Topology Description: <TopologyDescription id: 687996466730247b025b62ac, topology_type: Unknown, servers: [<ServerDescription ('3.148.238.241', 27017) server_type: Unknown, rtt: None, error=NetworkTimeout('3.148.238.241:27017: timed out (configured timeouts: socketTimeoutMS: 20000.0ms, connectTimeoutMS: 20000.0ms)')>]>",
          "traceback": [
            "\u001b[0;31m---------------------------------------------------------------------------\u001b[0m",
            "\u001b[0;31mServerSelectionTimeoutError\u001b[0m               Traceback (most recent call last)",
            "\u001b[0;32m/tmp/ipython-input-14-374138741.py\u001b[0m in \u001b[0;36m<cell line: 0>\u001b[0;34m()\u001b[0m\n\u001b[1;32m      1\u001b[0m \u001b[0;31m# Delete any existing records in the collection\u001b[0m\u001b[0;34m\u001b[0m\u001b[0;34m\u001b[0m\u001b[0m\n\u001b[0;32m----> 2\u001b[0;31m \u001b[0mcollection\u001b[0m\u001b[0;34m.\u001b[0m\u001b[0mdelete_many\u001b[0m\u001b[0;34m(\u001b[0m\u001b[0;34m{\u001b[0m\u001b[0;34m}\u001b[0m\u001b[0;34m)\u001b[0m\u001b[0;34m\u001b[0m\u001b[0;34m\u001b[0m\u001b[0m\n\u001b[0m",
            "\u001b[0;32m/usr/local/lib/python3.11/dist-packages/pymongo/synchronous/collection.py\u001b[0m in \u001b[0;36mdelete_many\u001b[0;34m(self, filter, collation, hint, session, let, comment)\u001b[0m\n\u001b[1;32m   1709\u001b[0m         \u001b[0mwrite_concern\u001b[0m \u001b[0;34m=\u001b[0m \u001b[0mself\u001b[0m\u001b[0;34m.\u001b[0m\u001b[0m_write_concern_for\u001b[0m\u001b[0;34m(\u001b[0m\u001b[0msession\u001b[0m\u001b[0;34m)\u001b[0m\u001b[0;34m\u001b[0m\u001b[0;34m\u001b[0m\u001b[0m\n\u001b[1;32m   1710\u001b[0m         return DeleteResult(\n\u001b[0;32m-> 1711\u001b[0;31m             self._delete_retryable(\n\u001b[0m\u001b[1;32m   1712\u001b[0m                 \u001b[0mfilter\u001b[0m\u001b[0;34m,\u001b[0m\u001b[0;34m\u001b[0m\u001b[0;34m\u001b[0m\u001b[0m\n\u001b[1;32m   1713\u001b[0m                 \u001b[0;32mTrue\u001b[0m\u001b[0;34m,\u001b[0m\u001b[0;34m\u001b[0m\u001b[0;34m\u001b[0m\u001b[0m\n",
            "\u001b[0;32m/usr/local/lib/python3.11/dist-packages/pymongo/synchronous/collection.py\u001b[0m in \u001b[0;36m_delete_retryable\u001b[0;34m(self, criteria, multi, write_concern, op_id, ordered, collation, hint, session, let, comment)\u001b[0m\n\u001b[1;32m   1585\u001b[0m             )\n\u001b[1;32m   1586\u001b[0m \u001b[0;34m\u001b[0m\u001b[0m\n\u001b[0;32m-> 1587\u001b[0;31m         return self._database.client._retryable_write(\n\u001b[0m\u001b[1;32m   1588\u001b[0m             \u001b[0;34m(\u001b[0m\u001b[0mwrite_concern\u001b[0m \u001b[0;32mor\u001b[0m \u001b[0mself\u001b[0m\u001b[0;34m.\u001b[0m\u001b[0mwrite_concern\u001b[0m\u001b[0;34m)\u001b[0m\u001b[0;34m.\u001b[0m\u001b[0macknowledged\u001b[0m \u001b[0;32mand\u001b[0m \u001b[0;32mnot\u001b[0m \u001b[0mmulti\u001b[0m\u001b[0;34m,\u001b[0m\u001b[0;34m\u001b[0m\u001b[0;34m\u001b[0m\u001b[0m\n\u001b[1;32m   1589\u001b[0m             \u001b[0m_delete\u001b[0m\u001b[0;34m,\u001b[0m\u001b[0;34m\u001b[0m\u001b[0;34m\u001b[0m\u001b[0m\n",
            "\u001b[0;32m/usr/local/lib/python3.11/dist-packages/pymongo/synchronous/mongo_client.py\u001b[0m in \u001b[0;36m_retryable_write\u001b[0;34m(self, retryable, func, session, operation, bulk, operation_id)\u001b[0m\n\u001b[1;32m   2059\u001b[0m         \"\"\"\n\u001b[1;32m   2060\u001b[0m         \u001b[0;32mwith\u001b[0m \u001b[0mself\u001b[0m\u001b[0;34m.\u001b[0m\u001b[0m_tmp_session\u001b[0m\u001b[0;34m(\u001b[0m\u001b[0msession\u001b[0m\u001b[0;34m)\u001b[0m \u001b[0;32mas\u001b[0m \u001b[0ms\u001b[0m\u001b[0;34m:\u001b[0m\u001b[0;34m\u001b[0m\u001b[0;34m\u001b[0m\u001b[0m\n\u001b[0;32m-> 2061\u001b[0;31m             \u001b[0;32mreturn\u001b[0m \u001b[0mself\u001b[0m\u001b[0;34m.\u001b[0m\u001b[0m_retry_with_session\u001b[0m\u001b[0;34m(\u001b[0m\u001b[0mretryable\u001b[0m\u001b[0;34m,\u001b[0m \u001b[0mfunc\u001b[0m\u001b[0;34m,\u001b[0m \u001b[0ms\u001b[0m\u001b[0;34m,\u001b[0m \u001b[0mbulk\u001b[0m\u001b[0;34m,\u001b[0m \u001b[0moperation\u001b[0m\u001b[0;34m,\u001b[0m \u001b[0moperation_id\u001b[0m\u001b[0;34m)\u001b[0m\u001b[0;34m\u001b[0m\u001b[0;34m\u001b[0m\u001b[0m\n\u001b[0m\u001b[1;32m   2062\u001b[0m \u001b[0;34m\u001b[0m\u001b[0m\n\u001b[1;32m   2063\u001b[0m     def _cleanup_cursor_no_lock(\n",
            "\u001b[0;32m/usr/local/lib/python3.11/dist-packages/pymongo/synchronous/mongo_client.py\u001b[0m in \u001b[0;36m_retry_with_session\u001b[0;34m(self, retryable, func, session, bulk, operation, operation_id)\u001b[0m\n\u001b[1;32m   1945\u001b[0m             \u001b[0mretryable\u001b[0m \u001b[0;32mand\u001b[0m \u001b[0mself\u001b[0m\u001b[0;34m.\u001b[0m\u001b[0moptions\u001b[0m\u001b[0;34m.\u001b[0m\u001b[0mretry_writes\u001b[0m \u001b[0;32mand\u001b[0m \u001b[0msession\u001b[0m \u001b[0;32mand\u001b[0m \u001b[0;32mnot\u001b[0m \u001b[0msession\u001b[0m\u001b[0;34m.\u001b[0m\u001b[0min_transaction\u001b[0m\u001b[0;34m\u001b[0m\u001b[0;34m\u001b[0m\u001b[0m\n\u001b[1;32m   1946\u001b[0m         )\n\u001b[0;32m-> 1947\u001b[0;31m         return self._retry_internal(\n\u001b[0m\u001b[1;32m   1948\u001b[0m             \u001b[0mfunc\u001b[0m\u001b[0;34m=\u001b[0m\u001b[0mfunc\u001b[0m\u001b[0;34m,\u001b[0m\u001b[0;34m\u001b[0m\u001b[0;34m\u001b[0m\u001b[0m\n\u001b[1;32m   1949\u001b[0m             \u001b[0msession\u001b[0m\u001b[0;34m=\u001b[0m\u001b[0msession\u001b[0m\u001b[0;34m,\u001b[0m\u001b[0;34m\u001b[0m\u001b[0;34m\u001b[0m\u001b[0m\n",
            "\u001b[0;32m/usr/local/lib/python3.11/dist-packages/pymongo/_csot.py\u001b[0m in \u001b[0;36mcsot_wrapper\u001b[0;34m(self, *args, **kwargs)\u001b[0m\n\u001b[1;32m    123\u001b[0m                     \u001b[0;32mwith\u001b[0m \u001b[0m_TimeoutContext\u001b[0m\u001b[0;34m(\u001b[0m\u001b[0mtimeout\u001b[0m\u001b[0;34m)\u001b[0m\u001b[0;34m:\u001b[0m\u001b[0;34m\u001b[0m\u001b[0;34m\u001b[0m\u001b[0m\n\u001b[1;32m    124\u001b[0m                         \u001b[0;32mreturn\u001b[0m \u001b[0mfunc\u001b[0m\u001b[0;34m(\u001b[0m\u001b[0mself\u001b[0m\u001b[0;34m,\u001b[0m \u001b[0;34m*\u001b[0m\u001b[0margs\u001b[0m\u001b[0;34m,\u001b[0m \u001b[0;34m**\u001b[0m\u001b[0mkwargs\u001b[0m\u001b[0;34m)\u001b[0m\u001b[0;34m\u001b[0m\u001b[0;34m\u001b[0m\u001b[0m\n\u001b[0;32m--> 125\u001b[0;31m             \u001b[0;32mreturn\u001b[0m \u001b[0mfunc\u001b[0m\u001b[0;34m(\u001b[0m\u001b[0mself\u001b[0m\u001b[0;34m,\u001b[0m \u001b[0;34m*\u001b[0m\u001b[0margs\u001b[0m\u001b[0;34m,\u001b[0m \u001b[0;34m**\u001b[0m\u001b[0mkwargs\u001b[0m\u001b[0;34m)\u001b[0m\u001b[0;34m\u001b[0m\u001b[0;34m\u001b[0m\u001b[0m\n\u001b[0m\u001b[1;32m    126\u001b[0m \u001b[0;34m\u001b[0m\u001b[0m\n\u001b[1;32m    127\u001b[0m     \u001b[0;32mreturn\u001b[0m \u001b[0mcast\u001b[0m\u001b[0;34m(\u001b[0m\u001b[0mF\u001b[0m\u001b[0;34m,\u001b[0m \u001b[0mcsot_wrapper\u001b[0m\u001b[0;34m)\u001b[0m\u001b[0;34m\u001b[0m\u001b[0;34m\u001b[0m\u001b[0m\n",
            "\u001b[0;32m/usr/local/lib/python3.11/dist-packages/pymongo/synchronous/mongo_client.py\u001b[0m in \u001b[0;36m_retry_internal\u001b[0;34m(self, func, session, bulk, operation, is_read, address, read_pref, retryable, operation_id)\u001b[0m\n\u001b[1;32m   1991\u001b[0m             \u001b[0mretryable\u001b[0m\u001b[0;34m=\u001b[0m\u001b[0mretryable\u001b[0m\u001b[0;34m,\u001b[0m\u001b[0;34m\u001b[0m\u001b[0;34m\u001b[0m\u001b[0m\n\u001b[1;32m   1992\u001b[0m             \u001b[0moperation_id\u001b[0m\u001b[0;34m=\u001b[0m\u001b[0moperation_id\u001b[0m\u001b[0;34m,\u001b[0m\u001b[0;34m\u001b[0m\u001b[0;34m\u001b[0m\u001b[0m\n\u001b[0;32m-> 1993\u001b[0;31m         ).run()\n\u001b[0m\u001b[1;32m   1994\u001b[0m \u001b[0;34m\u001b[0m\u001b[0m\n\u001b[1;32m   1995\u001b[0m     def _retryable_read(\n",
            "\u001b[0;32m/usr/local/lib/python3.11/dist-packages/pymongo/synchronous/mongo_client.py\u001b[0m in \u001b[0;36mrun\u001b[0;34m(self)\u001b[0m\n\u001b[1;32m   2728\u001b[0m             \u001b[0mself\u001b[0m\u001b[0;34m.\u001b[0m\u001b[0m_check_last_error\u001b[0m\u001b[0;34m(\u001b[0m\u001b[0mcheck_csot\u001b[0m\u001b[0;34m=\u001b[0m\u001b[0;32mTrue\u001b[0m\u001b[0;34m)\u001b[0m\u001b[0;34m\u001b[0m\u001b[0;34m\u001b[0m\u001b[0m\n\u001b[1;32m   2729\u001b[0m             \u001b[0;32mtry\u001b[0m\u001b[0;34m:\u001b[0m\u001b[0;34m\u001b[0m\u001b[0;34m\u001b[0m\u001b[0m\n\u001b[0;32m-> 2730\u001b[0;31m                 \u001b[0;32mreturn\u001b[0m \u001b[0mself\u001b[0m\u001b[0;34m.\u001b[0m\u001b[0m_read\u001b[0m\u001b[0;34m(\u001b[0m\u001b[0;34m)\u001b[0m \u001b[0;32mif\u001b[0m \u001b[0mself\u001b[0m\u001b[0;34m.\u001b[0m\u001b[0m_is_read\u001b[0m \u001b[0;32melse\u001b[0m \u001b[0mself\u001b[0m\u001b[0;34m.\u001b[0m\u001b[0m_write\u001b[0m\u001b[0;34m(\u001b[0m\u001b[0;34m)\u001b[0m\u001b[0;34m\u001b[0m\u001b[0;34m\u001b[0m\u001b[0m\n\u001b[0m\u001b[1;32m   2731\u001b[0m             \u001b[0;32mexcept\u001b[0m \u001b[0mServerSelectionTimeoutError\u001b[0m\u001b[0;34m:\u001b[0m\u001b[0;34m\u001b[0m\u001b[0;34m\u001b[0m\u001b[0m\n\u001b[1;32m   2732\u001b[0m                 \u001b[0;31m# The application may think the write was never attempted\u001b[0m\u001b[0;34m\u001b[0m\u001b[0;34m\u001b[0m\u001b[0m\n",
            "\u001b[0;32m/usr/local/lib/python3.11/dist-packages/pymongo/synchronous/mongo_client.py\u001b[0m in \u001b[0;36m_write\u001b[0;34m(self)\u001b[0m\n\u001b[1;32m   2838\u001b[0m             \u001b[0mmax_wire_version\u001b[0m \u001b[0;34m=\u001b[0m \u001b[0;36m0\u001b[0m\u001b[0;34m\u001b[0m\u001b[0;34m\u001b[0m\u001b[0m\n\u001b[1;32m   2839\u001b[0m             \u001b[0mis_mongos\u001b[0m \u001b[0;34m=\u001b[0m \u001b[0;32mFalse\u001b[0m\u001b[0;34m\u001b[0m\u001b[0;34m\u001b[0m\u001b[0m\n\u001b[0;32m-> 2840\u001b[0;31m             \u001b[0mself\u001b[0m\u001b[0;34m.\u001b[0m\u001b[0m_server\u001b[0m \u001b[0;34m=\u001b[0m \u001b[0mself\u001b[0m\u001b[0;34m.\u001b[0m\u001b[0m_get_server\u001b[0m\u001b[0;34m(\u001b[0m\u001b[0;34m)\u001b[0m\u001b[0;34m\u001b[0m\u001b[0;34m\u001b[0m\u001b[0m\n\u001b[0m\u001b[1;32m   2841\u001b[0m             \u001b[0;32mwith\u001b[0m \u001b[0mself\u001b[0m\u001b[0;34m.\u001b[0m\u001b[0m_client\u001b[0m\u001b[0;34m.\u001b[0m\u001b[0m_checkout\u001b[0m\u001b[0;34m(\u001b[0m\u001b[0mself\u001b[0m\u001b[0;34m.\u001b[0m\u001b[0m_server\u001b[0m\u001b[0;34m,\u001b[0m \u001b[0mself\u001b[0m\u001b[0;34m.\u001b[0m\u001b[0m_session\u001b[0m\u001b[0;34m)\u001b[0m \u001b[0;32mas\u001b[0m \u001b[0mconn\u001b[0m\u001b[0;34m:\u001b[0m\u001b[0;34m\u001b[0m\u001b[0;34m\u001b[0m\u001b[0m\n\u001b[1;32m   2842\u001b[0m                 \u001b[0mmax_wire_version\u001b[0m \u001b[0;34m=\u001b[0m \u001b[0mconn\u001b[0m\u001b[0;34m.\u001b[0m\u001b[0mmax_wire_version\u001b[0m\u001b[0;34m\u001b[0m\u001b[0;34m\u001b[0m\u001b[0m\n",
            "\u001b[0;32m/usr/local/lib/python3.11/dist-packages/pymongo/synchronous/mongo_client.py\u001b[0m in \u001b[0;36m_get_server\u001b[0;34m(self)\u001b[0m\n\u001b[1;32m   2821\u001b[0m         \u001b[0;34m:\u001b[0m\u001b[0;32mreturn\u001b[0m\u001b[0;34m:\u001b[0m \u001b[0mAbstraction\u001b[0m \u001b[0mto\u001b[0m \u001b[0mconnect\u001b[0m \u001b[0mto\u001b[0m \u001b[0mserver\u001b[0m\u001b[0;34m\u001b[0m\u001b[0;34m\u001b[0m\u001b[0m\n\u001b[1;32m   2822\u001b[0m         \"\"\"\n\u001b[0;32m-> 2823\u001b[0;31m         return self._client._select_server(\n\u001b[0m\u001b[1;32m   2824\u001b[0m             \u001b[0mself\u001b[0m\u001b[0;34m.\u001b[0m\u001b[0m_server_selector\u001b[0m\u001b[0;34m,\u001b[0m\u001b[0;34m\u001b[0m\u001b[0;34m\u001b[0m\u001b[0m\n\u001b[1;32m   2825\u001b[0m             \u001b[0mself\u001b[0m\u001b[0;34m.\u001b[0m\u001b[0m_session\u001b[0m\u001b[0;34m,\u001b[0m\u001b[0;34m\u001b[0m\u001b[0;34m\u001b[0m\u001b[0m\n",
            "\u001b[0;32m/usr/local/lib/python3.11/dist-packages/pymongo/synchronous/mongo_client.py\u001b[0m in \u001b[0;36m_select_server\u001b[0;34m(self, server_selector, session, operation, address, deprioritized_servers, operation_id)\u001b[0m\n\u001b[1;32m   1810\u001b[0m                     \u001b[0;32mraise\u001b[0m \u001b[0mAutoReconnect\u001b[0m\u001b[0;34m(\u001b[0m\u001b[0;34m\"server %s:%s no longer available\"\u001b[0m \u001b[0;34m%\u001b[0m \u001b[0maddress\u001b[0m\u001b[0;34m)\u001b[0m  \u001b[0;31m# noqa: UP031\u001b[0m\u001b[0;34m\u001b[0m\u001b[0;34m\u001b[0m\u001b[0m\n\u001b[1;32m   1811\u001b[0m             \u001b[0;32melse\u001b[0m\u001b[0;34m:\u001b[0m\u001b[0;34m\u001b[0m\u001b[0;34m\u001b[0m\u001b[0m\n\u001b[0;32m-> 1812\u001b[0;31m                 server = topology.select_server(\n\u001b[0m\u001b[1;32m   1813\u001b[0m                     \u001b[0mserver_selector\u001b[0m\u001b[0;34m,\u001b[0m\u001b[0;34m\u001b[0m\u001b[0;34m\u001b[0m\u001b[0m\n\u001b[1;32m   1814\u001b[0m                     \u001b[0moperation\u001b[0m\u001b[0;34m,\u001b[0m\u001b[0;34m\u001b[0m\u001b[0;34m\u001b[0m\u001b[0m\n",
            "\u001b[0;32m/usr/local/lib/python3.11/dist-packages/pymongo/synchronous/topology.py\u001b[0m in \u001b[0;36mselect_server\u001b[0;34m(self, selector, operation, server_selection_timeout, address, deprioritized_servers, operation_id)\u001b[0m\n\u001b[1;32m    407\u001b[0m     ) -> Server:\n\u001b[1;32m    408\u001b[0m         \u001b[0;34m\"\"\"Like select_servers, but choose a random server if several match.\"\"\"\u001b[0m\u001b[0;34m\u001b[0m\u001b[0;34m\u001b[0m\u001b[0m\n\u001b[0;32m--> 409\u001b[0;31m         server = self._select_server(\n\u001b[0m\u001b[1;32m    410\u001b[0m             \u001b[0mselector\u001b[0m\u001b[0;34m,\u001b[0m\u001b[0;34m\u001b[0m\u001b[0;34m\u001b[0m\u001b[0m\n\u001b[1;32m    411\u001b[0m             \u001b[0moperation\u001b[0m\u001b[0;34m,\u001b[0m\u001b[0;34m\u001b[0m\u001b[0;34m\u001b[0m\u001b[0m\n",
            "\u001b[0;32m/usr/local/lib/python3.11/dist-packages/pymongo/synchronous/topology.py\u001b[0m in \u001b[0;36m_select_server\u001b[0;34m(self, selector, operation, server_selection_timeout, address, deprioritized_servers, operation_id)\u001b[0m\n\u001b[1;32m    385\u001b[0m         \u001b[0moperation_id\u001b[0m\u001b[0;34m:\u001b[0m \u001b[0mOptional\u001b[0m\u001b[0;34m[\u001b[0m\u001b[0mint\u001b[0m\u001b[0;34m]\u001b[0m \u001b[0;34m=\u001b[0m \u001b[0;32mNone\u001b[0m\u001b[0;34m,\u001b[0m\u001b[0;34m\u001b[0m\u001b[0;34m\u001b[0m\u001b[0m\n\u001b[1;32m    386\u001b[0m     ) -> Server:\n\u001b[0;32m--> 387\u001b[0;31m         servers = self.select_servers(\n\u001b[0m\u001b[1;32m    388\u001b[0m             \u001b[0mselector\u001b[0m\u001b[0;34m,\u001b[0m \u001b[0moperation\u001b[0m\u001b[0;34m,\u001b[0m \u001b[0mserver_selection_timeout\u001b[0m\u001b[0;34m,\u001b[0m \u001b[0maddress\u001b[0m\u001b[0;34m,\u001b[0m \u001b[0moperation_id\u001b[0m\u001b[0;34m\u001b[0m\u001b[0;34m\u001b[0m\u001b[0m\n\u001b[1;32m    389\u001b[0m         )\n",
            "\u001b[0;32m/usr/local/lib/python3.11/dist-packages/pymongo/synchronous/topology.py\u001b[0m in \u001b[0;36mselect_servers\u001b[0;34m(self, selector, operation, server_selection_timeout, address, operation_id)\u001b[0m\n\u001b[1;32m    292\u001b[0m \u001b[0;34m\u001b[0m\u001b[0m\n\u001b[1;32m    293\u001b[0m         \u001b[0;32mwith\u001b[0m \u001b[0mself\u001b[0m\u001b[0;34m.\u001b[0m\u001b[0m_lock\u001b[0m\u001b[0;34m:\u001b[0m\u001b[0;34m\u001b[0m\u001b[0;34m\u001b[0m\u001b[0m\n\u001b[0;32m--> 294\u001b[0;31m             server_descriptions = self._select_servers_loop(\n\u001b[0m\u001b[1;32m    295\u001b[0m                 \u001b[0mselector\u001b[0m\u001b[0;34m,\u001b[0m \u001b[0mserver_timeout\u001b[0m\u001b[0;34m,\u001b[0m \u001b[0moperation\u001b[0m\u001b[0;34m,\u001b[0m \u001b[0moperation_id\u001b[0m\u001b[0;34m,\u001b[0m \u001b[0maddress\u001b[0m\u001b[0;34m\u001b[0m\u001b[0;34m\u001b[0m\u001b[0m\n\u001b[1;32m    296\u001b[0m             )\n",
            "\u001b[0;32m/usr/local/lib/python3.11/dist-packages/pymongo/synchronous/topology.py\u001b[0m in \u001b[0;36m_select_servers_loop\u001b[0;34m(self, selector, timeout, operation, operation_id, address)\u001b[0m\n\u001b[1;32m    342\u001b[0m                         \u001b[0mfailure\u001b[0m\u001b[0;34m=\u001b[0m\u001b[0mself\u001b[0m\u001b[0;34m.\u001b[0m\u001b[0m_error_message\u001b[0m\u001b[0;34m(\u001b[0m\u001b[0mselector\u001b[0m\u001b[0;34m)\u001b[0m\u001b[0;34m,\u001b[0m\u001b[0;34m\u001b[0m\u001b[0;34m\u001b[0m\u001b[0m\n\u001b[1;32m    343\u001b[0m                     )\n\u001b[0;32m--> 344\u001b[0;31m                 raise ServerSelectionTimeoutError(\n\u001b[0m\u001b[1;32m    345\u001b[0m                     \u001b[0;34mf\"{self._error_message(selector)}, Timeout: {timeout}s, Topology Description: {self.description!r}\"\u001b[0m\u001b[0;34m\u001b[0m\u001b[0;34m\u001b[0m\u001b[0m\n\u001b[1;32m    346\u001b[0m                 )\n",
            "\u001b[0;31mServerSelectionTimeoutError\u001b[0m: 3.148.238.241:27017: timed out (configured timeouts: socketTimeoutMS: 20000.0ms, connectTimeoutMS: 20000.0ms), Timeout: 30s, Topology Description: <TopologyDescription id: 687996466730247b025b62ac, topology_type: Unknown, servers: [<ServerDescription ('3.148.238.241', 27017) server_type: Unknown, rtt: None, error=NetworkTimeout('3.148.238.241:27017: timed out (configured timeouts: socketTimeoutMS: 20000.0ms, connectTimeoutMS: 20000.0ms)')>]>"
          ]
        }
      ],
      "source": [
        "# Delete any existing records in the collection\n",
        "collection.delete_many({})"
      ]
    },
    {
      "cell_type": "code",
      "execution_count": null,
      "id": "36c68914",
      "metadata": {
        "id": "36c68914",
        "outputId": "7b9074f3-0929-4cb8-8ac9-8c5679295d83"
      },
      "outputs": [
        {
          "name": "stdout",
          "output_type": "stream",
          "text": [
            "Data ingestion into MongoDB completed\n"
          ]
        }
      ],
      "source": [
        "# Data Ingestion\n",
        "records = df.to_dict(\"records\")\n",
        "collection.insert_many(records)\n",
        "\n",
        "print(\"Data ingestion into MongoDB completed\")"
      ]
    },
    {
      "cell_type": "code",
      "execution_count": null,
      "id": "cbfca0b8",
      "metadata": {
        "id": "cbfca0b8"
      },
      "outputs": [],
      "source": [
        "from langchain_openai import OpenAIEmbeddings\n",
        "\n",
        "# Using the text-embedding-ada-002 since that's what was used to create embeddings in the movies dataset\n",
        "embeddings = OpenAIEmbeddings(\n",
        "    openai_api_key=OPENAI_API_KEY, model=\"text-embedding-ada-002\"\n",
        ")"
      ]
    },
    {
      "cell_type": "code",
      "execution_count": null,
      "id": "798e176c",
      "metadata": {
        "id": "798e176c"
      },
      "outputs": [],
      "source": [
        "# Vector Store Creation\n",
        "vector_store = MongoDBAtlasVectorSearch.from_connection_string(\n",
        "    connection_string=MONGODB_URI,\n",
        "    namespace=DB_NAME + \".\" + COLLECTION_NAME,\n",
        "    embedding=embeddings,\n",
        "    index_name=ATLAS_VECTOR_SEARCH_INDEX_NAME,\n",
        "    text_key=\"fullplot\",\n",
        ")"
      ]
    },
    {
      "cell_type": "code",
      "execution_count": null,
      "id": "c71cd087",
      "metadata": {
        "id": "c71cd087"
      },
      "outputs": [],
      "source": [
        "# Using the MongoDB vector store as a retriever in a RAG chain\n",
        "retriever = vector_store.as_retriever(search_type=\"similarity\", search_kwargs={\"k\": 5})"
      ]
    },
    {
      "cell_type": "code",
      "execution_count": null,
      "id": "b6588cd3",
      "metadata": {
        "id": "b6588cd3"
      },
      "outputs": [],
      "source": [
        "from langchain_core.output_parsers import StrOutputParser\n",
        "from langchain_core.prompts import ChatPromptTemplate\n",
        "from langchain_core.runnables import RunnablePassthrough\n",
        "from langchain_openai import ChatOpenAI\n",
        "\n",
        "# Generate context using the retriever, and pass the user question through\n",
        "retrieve = {\n",
        "    \"context\": retriever | (lambda docs: \"\\n\\n\".join([d.page_content for d in docs])),\n",
        "    \"question\": RunnablePassthrough(),\n",
        "}\n",
        "template = \"\"\"Answer the question based only on the following context: \\\n",
        "{context}\n",
        "\n",
        "Question: {question}\n",
        "\"\"\"\n",
        "# Defining the chat prompt\n",
        "prompt = ChatPromptTemplate.from_template(template)\n",
        "# Defining the model to be used for chat completion\n",
        "model = ChatOpenAI(temperature=0, openai_api_key=OPENAI_API_KEY)\n",
        "# Parse output as a string\n",
        "parse_output = StrOutputParser()\n",
        "\n",
        "# Naive RAG chain\n",
        "naive_rag_chain = retrieve | prompt | model | parse_output"
      ]
    },
    {
      "cell_type": "code",
      "execution_count": null,
      "id": "aaae21f5",
      "metadata": {
        "id": "aaae21f5",
        "outputId": "8ad43240-8ec7-4570-8a21-dcff926dd644"
      },
      "outputs": [
        {
          "data": {
            "text/plain": [
              "'Once a Thief'"
            ]
          },
          "execution_count": 26,
          "metadata": {},
          "output_type": "execute_result"
        }
      ],
      "source": [
        "naive_rag_chain.invoke(\"What is the best movie to watch when sad?\")"
      ]
    },
    {
      "cell_type": "markdown",
      "id": "75f929ef",
      "metadata": {
        "id": "75f929ef"
      },
      "source": [
        "## Step 6: Create a RAG chain with chat history"
      ]
    },
    {
      "cell_type": "code",
      "execution_count": null,
      "id": "94e7bd4a",
      "metadata": {
        "id": "94e7bd4a"
      },
      "outputs": [],
      "source": [
        "from langchain_core.prompts import MessagesPlaceholder\n",
        "from langchain_core.runnables.history import RunnableWithMessageHistory\n",
        "from langchain_mongodb.chat_message_histories import MongoDBChatMessageHistory"
      ]
    },
    {
      "cell_type": "code",
      "execution_count": null,
      "id": "5bb30860",
      "metadata": {
        "id": "5bb30860"
      },
      "outputs": [],
      "source": [
        "def get_session_history(session_id: str) -> MongoDBChatMessageHistory:\n",
        "    return MongoDBChatMessageHistory(\n",
        "        MONGODB_URI, session_id, database_name=DB_NAME, collection_name=\"history\"\n",
        "    )"
      ]
    },
    {
      "cell_type": "code",
      "execution_count": null,
      "id": "f51d0f35",
      "metadata": {
        "id": "f51d0f35"
      },
      "outputs": [],
      "source": [
        "# Given a follow-up question and history, create a standalone question\n",
        "standalone_system_prompt = \"\"\"\n",
        "Given a chat history and a follow-up question, rephrase the follow-up question to be a standalone question. \\\n",
        "Do NOT answer the question, just reformulate it if needed, otherwise return it as is. \\\n",
        "Only return the final standalone question. \\\n",
        "\"\"\"\n",
        "standalone_question_prompt = ChatPromptTemplate.from_messages(\n",
        "    [\n",
        "        (\"system\", standalone_system_prompt),\n",
        "        MessagesPlaceholder(variable_name=\"history\"),\n",
        "        (\"human\", \"{question}\"),\n",
        "    ]\n",
        ")\n",
        "\n",
        "question_chain = standalone_question_prompt | model | parse_output"
      ]
    },
    {
      "cell_type": "code",
      "execution_count": null,
      "id": "f3ef3354",
      "metadata": {
        "id": "f3ef3354"
      },
      "outputs": [],
      "source": [
        "# Generate context by passing output of the question_chain i.e. the standalone question to the retriever\n",
        "retriever_chain = RunnablePassthrough.assign(\n",
        "    context=question_chain\n",
        "    | retriever\n",
        "    | (lambda docs: \"\\n\\n\".join([d.page_content for d in docs]))\n",
        ")"
      ]
    },
    {
      "cell_type": "code",
      "execution_count": null,
      "id": "5afb7345",
      "metadata": {
        "id": "5afb7345"
      },
      "outputs": [],
      "source": [
        "# Create a prompt that includes the context, history and the follow-up question\n",
        "rag_system_prompt = \"\"\"Answer the question based only on the following context: \\\n",
        "{context}\n",
        "\"\"\"\n",
        "rag_prompt = ChatPromptTemplate.from_messages(\n",
        "    [\n",
        "        (\"system\", rag_system_prompt),\n",
        "        MessagesPlaceholder(variable_name=\"history\"),\n",
        "        (\"human\", \"{question}\"),\n",
        "    ]\n",
        ")"
      ]
    },
    {
      "cell_type": "code",
      "execution_count": null,
      "id": "f95f47d0",
      "metadata": {
        "id": "f95f47d0"
      },
      "outputs": [],
      "source": [
        "# RAG chain\n",
        "rag_chain = retriever_chain | rag_prompt | model | parse_output"
      ]
    },
    {
      "cell_type": "code",
      "execution_count": null,
      "id": "9618d395",
      "metadata": {
        "id": "9618d395",
        "outputId": "10765162-7cd5-452b-b9fe-e0525fad606a"
      },
      "outputs": [
        {
          "data": {
            "text/plain": [
              "'The best movie to watch when feeling down could be \"Last Action Hero.\" It\\'s a fun and action-packed film that blends reality and fantasy, offering an escape from the real world and providing an entertaining distraction.'"
            ]
          },
          "execution_count": 57,
          "metadata": {},
          "output_type": "execute_result"
        }
      ],
      "source": [
        "# RAG chain with history\n",
        "with_message_history = RunnableWithMessageHistory(\n",
        "    rag_chain,\n",
        "    get_session_history,\n",
        "    input_messages_key=\"question\",\n",
        "    history_messages_key=\"history\",\n",
        ")\n",
        "with_message_history.invoke(\n",
        "    {\"question\": \"What is the best movie to watch when sad?\"},\n",
        "    {\"configurable\": {\"session_id\": \"1\"}},\n",
        ")"
      ]
    },
    {
      "cell_type": "code",
      "execution_count": null,
      "id": "6e3080d1",
      "metadata": {
        "id": "6e3080d1",
        "outputId": "717d0f78-7c74-4719-a1da-4ad2914dc6a1"
      },
      "outputs": [
        {
          "data": {
            "text/plain": [
              "'I apologize for the confusion. Another movie that might lift your spirits when you\\'re feeling sad is \"Smilla\\'s Sense of Snow.\" It\\'s a mystery thriller that could engage your mind and distract you from your sadness with its intriguing plot and suspenseful storyline.'"
            ]
          },
          "execution_count": 58,
          "metadata": {},
          "output_type": "execute_result"
        }
      ],
      "source": [
        "with_message_history.invoke(\n",
        "    {\n",
        "        \"question\": \"Hmmm..I don't want to watch that one. Can you suggest something else?\"\n",
        "    },\n",
        "    {\"configurable\": {\"session_id\": \"1\"}},\n",
        ")"
      ]
    },
    {
      "cell_type": "code",
      "execution_count": null,
      "id": "daea2953",
      "metadata": {
        "id": "daea2953",
        "outputId": "2e13809b-c49b-4388-e80b-bc6d8d92d8eb"
      },
      "outputs": [
        {
          "data": {
            "text/plain": [
              "'For a lighter movie option, you might enjoy \"Cousins.\" It\\'s a comedy film set in Barcelona with action and humor, offering a fun and entertaining escape from reality. The storyline is engaging and filled with comedic moments that could help lift your spirits.'"
            ]
          },
          "execution_count": 59,
          "metadata": {},
          "output_type": "execute_result"
        }
      ],
      "source": [
        "with_message_history.invoke(\n",
        "    {\"question\": \"How about something more light?\"},\n",
        "    {\"configurable\": {\"session_id\": \"1\"}},\n",
        ")"
      ]
    },
    {
      "cell_type": "markdown",
      "id": "0de23a88",
      "metadata": {
        "id": "0de23a88"
      },
      "source": [
        "## Step 7: Get faster responses using Semantic Cache\n",
        "\n",
        "**NOTE:** Semantic cache only caches the input to the LLM. When using it in retrieval chains, remember that documents retrieved can change between runs resulting in cache misses for semantically similar queries."
      ]
    },
    {
      "cell_type": "code",
      "execution_count": null,
      "id": "5d6b6741",
      "metadata": {
        "id": "5d6b6741"
      },
      "outputs": [],
      "source": [
        "from langchain_core.globals import set_llm_cache\n",
        "from langchain_mongodb.cache import MongoDBAtlasSemanticCache\n",
        "\n",
        "set_llm_cache(\n",
        "    MongoDBAtlasSemanticCache(\n",
        "        connection_string=MONGODB_URI,\n",
        "        embedding=embeddings,\n",
        "        collection_name=\"semantic_cache\",\n",
        "        database_name=DB_NAME,\n",
        "        index_name=ATLAS_VECTOR_SEARCH_INDEX_NAME,\n",
        "        wait_until_ready=True,  # Optional, waits until the cache is ready to be used\n",
        "    )\n",
        ")"
      ]
    },
    {
      "cell_type": "code",
      "execution_count": null,
      "id": "9825bc7b",
      "metadata": {
        "id": "9825bc7b",
        "outputId": "ace73c0d-86a9-4ea6-eb61-668990648a72"
      },
      "outputs": [
        {
          "name": "stdout",
          "output_type": "stream",
          "text": [
            "CPU times: user 87.8 ms, sys: 670 µs, total: 88.5 ms\n",
            "Wall time: 1.24 s\n"
          ]
        },
        {
          "data": {
            "text/plain": [
              "'Once a Thief'"
            ]
          },
          "execution_count": 62,
          "metadata": {},
          "output_type": "execute_result"
        }
      ],
      "source": [
        "%%time\n",
        "naive_rag_chain.invoke(\"What is the best movie to watch when sad?\")"
      ]
    },
    {
      "cell_type": "code",
      "execution_count": null,
      "id": "a5e518cf",
      "metadata": {
        "id": "a5e518cf",
        "outputId": "85745db0-4f0b-4852-ec2a-49e9c28460a8"
      },
      "outputs": [
        {
          "name": "stdout",
          "output_type": "stream",
          "text": [
            "CPU times: user 43.5 ms, sys: 4.16 ms, total: 47.7 ms\n",
            "Wall time: 255 ms\n"
          ]
        },
        {
          "data": {
            "text/plain": [
              "'Once a Thief'"
            ]
          },
          "execution_count": 63,
          "metadata": {},
          "output_type": "execute_result"
        }
      ],
      "source": [
        "%%time\n",
        "naive_rag_chain.invoke(\"What is the best movie to watch when sad?\")"
      ]
    },
    {
      "cell_type": "code",
      "execution_count": null,
      "id": "3d3d3ad3",
      "metadata": {
        "id": "3d3d3ad3",
        "outputId": "a0b310cf-ac14-4c92-b834-65c7ecbe9e61"
      },
      "outputs": [
        {
          "name": "stdout",
          "output_type": "stream",
          "text": [
            "CPU times: user 115 ms, sys: 171 µs, total: 115 ms\n",
            "Wall time: 1.38 s\n"
          ]
        },
        {
          "data": {
            "text/plain": [
              "'I would recommend watching \"Last Action Hero\" when sad, as it is a fun and action-packed film that can help lift your spirits.'"
            ]
          },
          "execution_count": 64,
          "metadata": {},
          "output_type": "execute_result"
        }
      ],
      "source": [
        "%%time\n",
        "naive_rag_chain.invoke(\"Which movie do I watch when sad?\")"
      ]
    }
  ],
  "metadata": {
    "kernelspec": {
      "display_name": "conda_pytorch_p310",
      "language": "python",
      "name": "conda_pytorch_p310"
    },
    "language_info": {
      "codemirror_mode": {
        "name": "ipython",
        "version": 3
      },
      "file_extension": ".py",
      "mimetype": "text/x-python",
      "name": "python",
      "nbconvert_exporter": "python",
      "pygments_lexer": "ipython3",
      "version": "3.10.13"
    },
    "colab": {
      "provenance": []
    }
  },
  "nbformat": 4,
  "nbformat_minor": 5
}